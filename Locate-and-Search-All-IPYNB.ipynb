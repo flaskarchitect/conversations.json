{
 "cells": [
  {
   "cell_type": "markdown",
   "id": "8af714dc",
   "metadata": {},
   "source": [
    "# Locate all the *.ipynb files and list them in a file \"ALL-IPYNB.list\""
   ]
  },
  {
   "cell_type": "code",
   "execution_count": 1,
   "id": "35844156",
   "metadata": {},
   "outputs": [],
   "source": [
    "!ls *.ipynb >>ALL-IPYNB.list"
   ]
  },
  {
   "cell_type": "code",
   "execution_count": 3,
   "id": "063717b3",
   "metadata": {},
   "outputs": [
    {
     "name": "stdout",
     "output_type": "stream",
     "text": [
      "2024_All_conversationjson_2_html.ipynb\r\n",
      "2024_All_conversationjson_2_html-new.ipynb\r\n",
      "Convert_json_to_Text.ipynb\r\n",
      "empty.ipynb\r\n",
      "Locate-and-Search-All-IPYNB.ipynb\r\n",
      "split_and_save_conversations_into_titles.ipynb\r\n"
     ]
    }
   ],
   "source": [
    "!cat ALL-IPYNB.list"
   ]
  },
  {
   "cell_type": "markdown",
   "id": "1a1443da",
   "metadata": {},
   "source": [
    "# Open the file \"ALL-IPYNB.list\" to view all the entries"
   ]
  },
  {
   "cell_type": "code",
   "execution_count": 4,
   "id": "6b3822e5",
   "metadata": {},
   "outputs": [
    {
     "name": "stdout",
     "output_type": "stream",
     "text": [
      "2024_All_conversationjson_2_html.ipynb\n",
      "2024_All_conversationjson_2_html-new.ipynb\n",
      "Convert_json_to_Text.ipynb\n",
      "empty.ipynb\n",
      "Locate-and-Search-All-IPYNB.ipynb\n",
      "split_and_save_conversations_into_titles.ipynb\n"
     ]
    }
   ],
   "source": [
    "files = open(\"ALL-IPYNB.list\").readlines()\n",
    "for file in files:\n",
    "    file = file.replace(\"\\n\",\"\")\n",
    "    print(file)\n",
    "    "
   ]
  },
  {
   "cell_type": "markdown",
   "id": "c97147fd",
   "metadata": {},
   "source": [
    "# Copy all the files in this directory"
   ]
  },
  {
   "cell_type": "code",
   "execution_count": 12,
   "id": "16ae5b89",
   "metadata": {},
   "outputs": [
    {
     "name": "stdout",
     "output_type": "stream",
     "text": [
      "2024_All_conversationjson_2_html.ipynb\n",
      "2024_All_conversationjson_2_html-new.ipynb\n",
      "Convert_json_to_Text.ipynb\n",
      "empty.ipynb\n",
      "Locate-and-Search-All-IPYNB.ipynb\n",
      "split_and_save_conversations_into_titles.ipynb\n"
     ]
    }
   ],
   "source": [
    "from pathlib import Path\n",
    "import shutil\n",
    "files = open(\"ALL-IPYNB.list\").readlines()\n",
    "for file in files:\n",
    "    file = file.replace(\"\\n\",\"\")\n",
    "    print(file)\n",
    "    #shutil.copy2(os.path.join(src,fname), trg)\n",
    "    shutil.copy2(file, \"notebooks\")\n",
    "    #shutil.copy2(os.path.join(src,fname), trg)"
   ]
  },
  {
   "cell_type": "markdown",
   "id": "3cfba52a",
   "metadata": {},
   "source": [
    "# Search the notebooks for a term in the title"
   ]
  },
  {
   "cell_type": "code",
   "execution_count": 8,
   "id": "12616fc3",
   "metadata": {},
   "outputs": [
    {
     "name": "stdout",
     "output_type": "stream",
     "text": [
      "Search for a term: Convert\n",
      "Convert_json_to_Text.ipynb\n"
     ]
    }
   ],
   "source": [
    "files = open(\"ALL-IPYNB.list\").readlines()\n",
    "SEARCH = input(\"Search for a term: \")\n",
    "for file in files:\n",
    "    file = file.replace(\"\\n\",\"\")\n",
    "    if SEARCH in file:\n",
    "        print(file)"
   ]
  },
  {
   "cell_type": "code",
   "execution_count": 6,
   "id": "3616a631",
   "metadata": {},
   "outputs": [
    {
     "name": "stdout",
     "output_type": "stream",
     "text": [
      "2024_All_conversationjson_2_html.ipynb\r\n",
      "2024_All_conversationjson_2_html-new.ipynb\r\n",
      "ALL-IPYNB.list\r\n",
      "chat_database.db\r\n",
      "CHATDPT\r\n",
      "Convert_json_to_Text.ipynb\r\n",
      "empty.ipynb\r\n",
      "Locate-and-Search-All-IPYNB.ipynb\r\n",
      "split_and_save_conversations_into_titles.ipynb\r\n"
     ]
    }
   ],
   "source": [
    "!ls"
   ]
  },
  {
   "cell_type": "code",
   "execution_count": 13,
   "id": "02544d0c",
   "metadata": {},
   "outputs": [],
   "source": [
    "import os\n",
    "filelist=[]\n",
    "files = os.listdir(\"notebooks\")\n",
    "for file in files:\n",
    "    filelist.append(file)\n"
   ]
  },
  {
   "cell_type": "code",
   "execution_count": 14,
   "id": "d4d21196",
   "metadata": {},
   "outputs": [
    {
     "name": "stdout",
     "output_type": "stream",
     "text": [
      "6\n"
     ]
    }
   ],
   "source": [
    "print(len(filelist))"
   ]
  },
  {
   "cell_type": "code",
   "execution_count": 17,
   "id": "3968dd15",
   "metadata": {},
   "outputs": [
    {
     "name": "stdout",
     "output_type": "stream",
     "text": [
      "Search for Term in a notebook:\n",
      "8 empty.ipynb\n",
      "9 2024_All_conversationjson_2_html-new.ipynb\n",
      "10 2024_All_conversationjson_2_html-new.ipynb\n"
     ]
    }
   ],
   "source": [
    "SEARCH =input(\"Search for Term in a notebook:\")\n",
    "SEARCH=\"Morph\"\n",
    "for filename in filelist:\n",
    "    data = open(filename).readlines()\n",
    "    for line in data:\n",
    "        if SEARCH in line:\n",
    "            count=count+1\n",
    "            print( count,filename)"
   ]
  },
  {
   "cell_type": "code",
   "execution_count": null,
   "id": "a81a50e9",
   "metadata": {},
   "outputs": [],
   "source": []
  }
 ],
 "metadata": {
  "kernelspec": {
   "display_name": "cloned-base",
   "language": "python",
   "name": "cloned-base"
  },
  "language_info": {
   "codemirror_mode": {
    "name": "ipython",
    "version": 3
   },
   "file_extension": ".py",
   "mimetype": "text/x-python",
   "name": "python",
   "nbconvert_exporter": "python",
   "pygments_lexer": "ipython3",
   "version": "3.9.12"
  }
 },
 "nbformat": 4,
 "nbformat_minor": 5
}
